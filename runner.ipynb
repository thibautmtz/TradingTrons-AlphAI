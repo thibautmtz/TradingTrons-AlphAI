{
 "cells": [
  {
   "cell_type": "markdown",
   "metadata": {},
   "source": [
    "## **Libraries**"
   ]
  },
  {
   "cell_type": "code",
   "execution_count": 12,
   "metadata": {},
   "outputs": [],
   "source": [
    "import os\n",
    "import itertools\n",
    "import numpy as np \n",
    "from joblib import Parallel, delayed"
   ]
  },
  {
   "cell_type": "markdown",
   "metadata": {},
   "source": [
    "## **Environmental variable:** set the environmental variable to the folder where you downloaded the code"
   ]
  },
  {
   "cell_type": "code",
   "execution_count": null,
   "metadata": {},
   "outputs": [],
   "source": [
    "os.environ[\"BASE_PATH\"] = \"Put your Path here\""
   ]
  },
  {
   "cell_type": "markdown",
   "metadata": {},
   "source": [
    "## **Parameters**"
   ]
  },
  {
   "cell_type": "code",
   "execution_count": 4,
   "metadata": {},
   "outputs": [],
   "source": [
    "train_rolling_length = 300 # rolling training window\n",
    "test_rolling_length = 16 # rolling testing window\n",
    "epochs = 2000 # number of epochs\n",
    "batch_size = 32 # batch size\n",
    "L_loss = [\"listnet\", \"listnet_pairs\", \"listmle\", \"listmle_corrected\"] # losses\n",
    "\n",
    "ind_run = 1\n",
    "L_ind_train = [i for i in range(20)]\n",
    "L_short = [\"bottom\"]\n",
    "L_pond = [\"weighted\"]\n",
    "returns = np.load(f\"{os.environ['BASE_PATH']}/raw_data/returns.npy\", allow_pickle=True)\n",
    "features = np.load(f\"{os.environ['BASE_PATH']}/raw_data/features.npy\", allow_pickle=True)\n",
    "nb_features = features.shape[2]\n",
    "nb_stocks = features.shape[1]\n",
    "nb_long_max = nb_stocks//2\n",
    "reb_fees = 0\n",
    "freq = \"weekly\"\n",
    "annualized_risk_free_rate = 0.02"
   ]
  },
  {
   "cell_type": "markdown",
   "metadata": {},
   "source": [
    "## **Data**"
   ]
  },
  {
   "cell_type": "code",
   "execution_count": 6,
   "metadata": {},
   "outputs": [],
   "source": [
    "from preprocessing import save_preprocessed_data"
   ]
  },
  {
   "cell_type": "code",
   "execution_count": 7,
   "metadata": {},
   "outputs": [],
   "source": [
    "save_preprocessed_data(features, returns, train_rolling_length, test_rolling_length)"
   ]
  },
  {
   "cell_type": "markdown",
   "metadata": {},
   "source": [
    "## **Training procedure**"
   ]
  },
  {
   "cell_type": "code",
   "execution_count": 8,
   "metadata": {},
   "outputs": [],
   "source": [
    "from train import train_model_loss"
   ]
  },
  {
   "cell_type": "code",
   "execution_count": 10,
   "metadata": {},
   "outputs": [],
   "source": [
    "param_combinations = list(\n",
    "    itertools.product(\n",
    "        L_loss,\n",
    "        [L_ind_train],\n",
    "        [train_rolling_length],\n",
    "        [test_rolling_length],\n",
    "        [epochs],\n",
    "        [batch_size],\n",
    "        [ind_run],\n",
    "    )\n",
    ")"
   ]
  },
  {
   "cell_type": "code",
   "execution_count": null,
   "metadata": {},
   "outputs": [],
   "source": [
    "if __name__ == \"__main__\":\n",
    "    # Number of parallel jobs to run\n",
    "    num_jobs = (\n",
    "        -1\n",
    "    )  # Set to -1 to use all available CPU cores, or specify the desired number\n",
    "\n",
    "    # Execute train function for each combination of parameters in parallel\n",
    "    Parallel(n_jobs=num_jobs)(\n",
    "        delayed(train_model_loss)(*param) for param in param_combinations\n",
    "    )"
   ]
  },
  {
   "cell_type": "markdown",
   "metadata": {},
   "source": [
    "## **Backtesting procedure**"
   ]
  },
  {
   "cell_type": "code",
   "execution_count": 5,
   "metadata": {},
   "outputs": [],
   "source": [
    "from backtest import backtest"
   ]
  },
  {
   "cell_type": "code",
   "execution_count": 6,
   "metadata": {},
   "outputs": [],
   "source": [
    "param_combinations = list(\n",
    "    itertools.product(\n",
    "        [L_ind_train],\n",
    "        L_pond,\n",
    "        L_short,\n",
    "        [train_rolling_length],\n",
    "        [test_rolling_length],\n",
    "        [epochs],\n",
    "        [batch_size],\n",
    "        L_loss,\n",
    "        [ind_run],\n",
    "        [nb_features],\n",
    "        [nb_stocks],\n",
    "        [nb_long_max],\n",
    "        [reb_fees],\n",
    "    )\n",
    ")"
   ]
  },
  {
   "cell_type": "code",
   "execution_count": null,
   "metadata": {},
   "outputs": [],
   "source": [
    "for l in range(len(L_loss)):\n",
    "    positions = np.zeros((nb_long_max, features.shape[0]-((features.shape[0]-train_rolling_length)%test_rolling_length)+1, nb_stocks))\n",
    "    positions.setflags(write=True)\n",
    "    backtest(*param_combinations[l], positions)"
   ]
  },
  {
   "cell_type": "markdown",
   "metadata": {},
   "source": [
    "## **Out of sample financial metrics**"
   ]
  },
  {
   "cell_type": "code",
   "execution_count": 13,
   "metadata": {},
   "outputs": [],
   "source": [
    "from src.ut_financial import get_resume_rank_metrics_test, get_resume_financial_metrics_test"
   ]
  },
  {
   "cell_type": "code",
   "execution_count": 14,
   "metadata": {},
   "outputs": [
    {
     "data": {
      "text/html": [
       "<div>\n",
       "<style scoped>\n",
       "    .dataframe tbody tr th:only-of-type {\n",
       "        vertical-align: middle;\n",
       "    }\n",
       "\n",
       "    .dataframe tbody tr th {\n",
       "        vertical-align: top;\n",
       "    }\n",
       "\n",
       "    .dataframe thead th {\n",
       "        text-align: right;\n",
       "    }\n",
       "</style>\n",
       "<table border=\"1\" class=\"dataframe\">\n",
       "  <thead>\n",
       "    <tr style=\"text-align: right;\">\n",
       "      <th></th>\n",
       "      <th>ListNet Classic</th>\n",
       "      <th>ListNet Fold</th>\n",
       "      <th>ListMLE Classic</th>\n",
       "      <th>ListMLE Weighted</th>\n",
       "    </tr>\n",
       "  </thead>\n",
       "  <tbody>\n",
       "    <tr>\n",
       "      <th>ic</th>\n",
       "      <td>0.053</td>\n",
       "      <td>0.051</td>\n",
       "      <td>0.062</td>\n",
       "      <td>0.066</td>\n",
       "    </tr>\n",
       "    <tr>\n",
       "      <th>kendalltau</th>\n",
       "      <td>0.036</td>\n",
       "      <td>0.035</td>\n",
       "      <td>0.042</td>\n",
       "      <td>0.045</td>\n",
       "    </tr>\n",
       "    <tr>\n",
       "      <th>wkendalltau</th>\n",
       "      <td>0.044</td>\n",
       "      <td>0.045</td>\n",
       "      <td>0.054</td>\n",
       "      <td>0.059</td>\n",
       "    </tr>\n",
       "  </tbody>\n",
       "</table>\n",
       "</div>"
      ],
      "text/plain": [
       "             ListNet Classic  ListNet Fold  ListMLE Classic  ListMLE Weighted\n",
       "ic                     0.053         0.051            0.062             0.066\n",
       "kendalltau             0.036         0.035            0.042             0.045\n",
       "wkendalltau            0.044         0.045            0.054             0.059"
      ]
     },
     "execution_count": 14,
     "metadata": {},
     "output_type": "execute_result"
    }
   ],
   "source": [
    "df_rank_metrics = get_resume_rank_metrics_test(train_rolling_length, epochs, ind_run)\n",
    "df_rank_metrics"
   ]
  },
  {
   "cell_type": "code",
   "execution_count": 15,
   "metadata": {},
   "outputs": [
    {
     "name": "stderr",
     "output_type": "stream",
     "text": [
      "/Users/thibaut/Desktop/Templeton_final/Code/src/ut_financial.py:180: FutureWarning: DataFrame.applymap has been deprecated. Use DataFrame.map instead.\n",
      "  df_excess_returns_neg = df_excess_returns.applymap(lambda x: x if x < 0 else None)\n",
      "/Users/thibaut/Desktop/Templeton_final/Code/src/ut_financial.py:180: FutureWarning: DataFrame.applymap has been deprecated. Use DataFrame.map instead.\n",
      "  df_excess_returns_neg = df_excess_returns.applymap(lambda x: x if x < 0 else None)\n",
      "/Users/thibaut/Desktop/Templeton_final/Code/src/ut_financial.py:180: FutureWarning: DataFrame.applymap has been deprecated. Use DataFrame.map instead.\n",
      "  df_excess_returns_neg = df_excess_returns.applymap(lambda x: x if x < 0 else None)\n",
      "/Users/thibaut/Desktop/Templeton_final/Code/src/ut_financial.py:180: FutureWarning: DataFrame.applymap has been deprecated. Use DataFrame.map instead.\n",
      "  df_excess_returns_neg = df_excess_returns.applymap(lambda x: x if x < 0 else None)\n"
     ]
    },
    {
     "data": {
      "text/html": [
       "<div>\n",
       "<style scoped>\n",
       "    .dataframe tbody tr th:only-of-type {\n",
       "        vertical-align: middle;\n",
       "    }\n",
       "\n",
       "    .dataframe tbody tr th {\n",
       "        vertical-align: top;\n",
       "    }\n",
       "\n",
       "    .dataframe thead th {\n",
       "        text-align: right;\n",
       "    }\n",
       "</style>\n",
       "<table border=\"1\" class=\"dataframe\">\n",
       "  <thead>\n",
       "    <tr style=\"text-align: right;\">\n",
       "      <th></th>\n",
       "      <th>ListNet Classic</th>\n",
       "      <th>ListNet Fold</th>\n",
       "      <th>ListMLE Classic</th>\n",
       "      <th>ListMLE Weighted</th>\n",
       "    </tr>\n",
       "  </thead>\n",
       "  <tbody>\n",
       "    <tr>\n",
       "      <th>ex ret</th>\n",
       "      <td>0.16</td>\n",
       "      <td>0.17</td>\n",
       "      <td>0.20</td>\n",
       "      <td>0.25</td>\n",
       "    </tr>\n",
       "    <tr>\n",
       "      <th>vol</th>\n",
       "      <td>0.14</td>\n",
       "      <td>0.15</td>\n",
       "      <td>0.15</td>\n",
       "      <td>0.17</td>\n",
       "    </tr>\n",
       "    <tr>\n",
       "      <th>sharpe</th>\n",
       "      <td>1.16</td>\n",
       "      <td>1.17</td>\n",
       "      <td>1.36</td>\n",
       "      <td>1.49</td>\n",
       "    </tr>\n",
       "    <tr>\n",
       "      <th>MDD</th>\n",
       "      <td>-0.15</td>\n",
       "      <td>-0.14</td>\n",
       "      <td>-0.13</td>\n",
       "      <td>-0.13</td>\n",
       "    </tr>\n",
       "    <tr>\n",
       "      <th>sortino</th>\n",
       "      <td>1.49</td>\n",
       "      <td>1.58</td>\n",
       "      <td>1.78</td>\n",
       "      <td>1.99</td>\n",
       "    </tr>\n",
       "    <tr>\n",
       "      <th>VaR</th>\n",
       "      <td>-2.39</td>\n",
       "      <td>-2.74</td>\n",
       "      <td>-2.67</td>\n",
       "      <td>-2.64</td>\n",
       "    </tr>\n",
       "  </tbody>\n",
       "</table>\n",
       "</div>"
      ],
      "text/plain": [
       "         ListNet Classic  ListNet Fold  ListMLE Classic  ListMLE Weighted\n",
       "ex ret              0.16          0.17             0.20              0.25\n",
       "vol                 0.14          0.15             0.15              0.17\n",
       "sharpe              1.16          1.17             1.36              1.49\n",
       "MDD                -0.15         -0.14            -0.13             -0.13\n",
       "sortino             1.49          1.58             1.78              1.99\n",
       "VaR                -2.39         -2.74            -2.67             -2.64"
      ]
     },
     "execution_count": 15,
     "metadata": {},
     "output_type": "execute_result"
    }
   ],
   "source": [
    "df_financial_metrics = get_resume_financial_metrics_test(train_rolling_length, epochs, ind_run, freq, annualized_risk_free_rate)\n",
    "df_financial_metrics"
   ]
  },
  {
   "cell_type": "code",
   "execution_count": null,
   "metadata": {},
   "outputs": [],
   "source": []
  }
 ],
 "metadata": {
  "kernelspec": {
   "display_name": "Python 3",
   "language": "python",
   "name": "python3"
  },
  "language_info": {
   "codemirror_mode": {
    "name": "ipython",
    "version": 3
   },
   "file_extension": ".py",
   "mimetype": "text/x-python",
   "name": "python",
   "nbconvert_exporter": "python",
   "pygments_lexer": "ipython3",
   "version": "3.9.6"
  }
 },
 "nbformat": 4,
 "nbformat_minor": 2
}
